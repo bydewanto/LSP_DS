{
 "cells": [
  {
   "cell_type": "code",
   "execution_count": null,
   "id": "1f0b7b5c",
   "metadata": {
    "vscode": {
     "languageId": "plaintext"
    }
   },
   "outputs": [],
   "source": [
    "# Import library\n",
    "import pandas as pd\n",
    "import numpy as np\n",
    "import matplotlib.pyplot as plt\n",
    "import seaborn as sns\n",
    "import xgboost as xgb\n",
    "from sklearn.metrics import mean_squared_error"
   ]
  },
  {
   "cell_type": "code",
   "execution_count": null,
   "id": "88485f04",
   "metadata": {
    "vscode": {
     "languageId": "plaintext"
    }
   },
   "outputs": [],
   "source": [
    "from google.colab import files\n",
    "uploaded = files.upload()\n",
    "df = pd.read_csv(\"hierarchical_sales_data.csv\")"
   ]
  },
  {
   "cell_type": "code",
   "execution_count": null,
   "id": "ac35b4eb",
   "metadata": {
    "vscode": {
     "languageId": "plaintext"
    }
   },
   "outputs": [],
   "source": [
    "# Preprocessing dasar\n",
    "df.columns = df.columns.str.strip()\n",
    "print(df.columns) # Print columns to check\n",
    "df['DATE'] = pd.to_datetime(df['DATE'])\n",
    "df = df.set_index('DATE')"
   ]
  },
  {
   "cell_type": "code",
   "execution_count": null,
   "id": "c7a9777e",
   "metadata": {
    "vscode": {
     "languageId": "plaintext"
    }
   },
   "outputs": [],
   "source": [
    "# Fungsi modular untuk SKU dan brand\n",
    "\n",
    "def prepare_data(df, mode=\"brand\", id=\"B1\"):\n",
    "    df = df.copy()\n",
    "    if mode == \"brand\":\n",
    "        qty_cols = [col for col in df.columns if col.startswith(f\"QTY_{id}_\")]\n",
    "        promo_cols = [col for col in df.columns if col.startswith(f\"PROMO_{id}_\")]\n",
    "        df[f\"QTY_{mode.upper()}_{id}\"] = df[qty_cols].sum(axis=1)\n",
    "        df[f\"PROMO_{mode.upper()}_{id}\"] = df[promo_cols].max(axis=1)\n",
    "        result = df[[f\"QTY_{mode.upper()}_{id}\", f\"PROMO_{mode.upper()}_{id}\"]].copy()\n",
    "    elif mode == \"sku\":\n",
    "        result = df[[f\"QTY_{id}\", f\"PROMO_{id}\"].copy()]\n",
    "        result = result.rename(columns={f\"QTY_{id}\": f\"QTY_{mode.upper()}_{id}\", f\"PROMO_{id}\": f\"PROMO_{mode.upper()}_{id}\"})\n",
    "    result.index = df.index\n",
    "    return result"
   ]
  },
  {
   "cell_type": "code",
   "execution_count": null,
   "id": "dec16fd9",
   "metadata": {
    "vscode": {
     "languageId": "plaintext"
    }
   },
   "outputs": [],
   "source": [
    "# Buat fitur waktu dan lag\n",
    "\n",
    "def create_features(df, target_col, promo_col):\n",
    "    df = df.copy()\n",
    "    df['dayofweek'] = df.index.dayofweek\n",
    "    df['quarter'] = df.index.quarter\n",
    "    df['month'] = df.index.month\n",
    "    df['year'] = df.index.year\n",
    "    df['dayofyear'] = df.index.dayofyear\n",
    "    df['dayofmonth'] = df.index.day\n",
    "    df['weekofyear'] = df.index.isocalendar().week\n",
    "\n",
    "    # Lag features\n",
    "    df['lag_1'] = df[target_col].shift(1)\n",
    "    df['lag_7'] = df[target_col].shift(7)\n",
    "    df['rolling_mean_7'] = df[target_col].shift(1).rolling(window=7).mean()\n",
    "    df['rolling_std_7'] = df[target_col].shift(1).rolling(window=7).std()\n",
    "\n",
    "    df = df.dropna()\n",
    "    return df"
   ]
  },
  {
   "cell_type": "code",
   "execution_count": null,
   "id": "28dc1390",
   "metadata": {
    "vscode": {
     "languageId": "plaintext"
    }
   },
   "outputs": [],
   "source": [
    "# Training dan evaluasi\n",
    "\n",
    "def train_xgboost(df, target_col, promo_col):\n",
    "    df = create_features(df, target_col, promo_col)\n",
    "    FEATURES = ['dayofweek', 'quarter', 'month', 'year', 'dayofyear', 'dayofmonth', 'weekofyear', 'lag_1', 'lag_7', 'rolling_mean_7', 'rolling_std_7', promo_col]\n",
    "\n",
    "    train = df[df.index < '2018-01-06']\n",
    "    test = df[df.index >= '2018-01-06']\n",
    "\n",
    "    X_train = train[FEATURES]\n",
    "    y_train = train[target_col]\n",
    "    X_test = test[FEATURES]\n",
    "    y_test = test[target_col]\n",
    "\n",
    "    model = xgb.XGBRegressor(\n",
    "        n_estimators=1000,\n",
    "        early_stopping_rounds=50,\n",
    "        learning_rate=0.01,\n",
    "        max_depth=3,\n",
    "        objective='reg:squarederror',\n",
    "        verbosity=1\n",
    "    )\n",
    "\n",
    "    model.fit(\n",
    "        X_train, y_train,\n",
    "        eval_set=[(X_train, y_train), (X_test, y_test)],\n",
    "        verbose=100\n",
    "    )\n",
    "\n",
    "    test['prediction'] = model.predict(X_test)\n",
    "    rmse = np.sqrt(mean_squared_error(y_test, test['prediction']))\n",
    "    print(f\"\\n\\U0001F4A1 RMSE pada test set: {rmse:.2f}\")\n",
    "\n",
    "    # Plot prediksi vs aktual\n",
    "    test[[target_col, 'prediction']].plot(figsize=(15, 5), title=f\"Prediksi vs Aktual - {target_col}\")\n",
    "    plt.ylabel(\"Jumlah Penjualan\")\n",
    "    plt.xlabel(\"Tanggal\")\n",
    "    plt.show()\n",
    "\n",
    "    return model, test, rmse"
   ]
  },
  {
   "cell_type": "code",
   "execution_count": null,
   "id": "6535b40c",
   "metadata": {
    "vscode": {
     "languageId": "plaintext"
    }
   },
   "outputs": [],
   "source": [
    "# Fungsi multistep forward forecasting\n",
    "\n",
    "def forecast_next_days(model, last_known_df, n_steps, target_col, promo_col, promo_value=0):\n",
    "    forecast = []\n",
    "    current = last_known_df.copy()\n",
    "\n",
    "    for i in range(n_steps):\n",
    "        next_index = current.index[-1] + pd.Timedelta(days=1)\n",
    "        next_row = {\n",
    "            'dayofweek': next_index.dayofweek,\n",
    "            'quarter': next_index.quarter,\n",
    "            'month': next_index.month,\n",
    "            'year': next_index.year,\n",
    "            'dayofyear': next_index.dayofyear,\n",
    "            'dayofmonth': next_index.day,\n",
    "            'weekofyear': next_index.isocalendar().week,\n",
    "            'lag_1': current[target_col].iloc[-1],\n",
    "            'lag_7': current[target_col].iloc[-7] if len(current) >= 7 else current[target_col].iloc[-1],\n",
    "            'rolling_mean_7': current[target_col].rolling(window=7).mean().iloc[-1] if len(current) >= 7 else current[target_col].mean(),\n",
    "            'rolling_std_7': current[target_col].rolling(window=7).std().iloc[-1] if len(current) >= 7 else current[target_col].std(),\n",
    "            promo_col: promo_value\n",
    "        }\n",
    "        X_next = pd.DataFrame([next_row], index=[next_index])\n",
    "        y_pred = model.predict(X_next)[0]\n",
    "        current.loc[next_index] = {**next_row, target_col: y_pred}\n",
    "        forecast.append((next_index, y_pred))\n",
    "\n",
    "    forecast_df = pd.DataFrame(forecast, columns=[\"date\", \"forecast\"])\n",
    "    forecast_df.set_index(\"date\", inplace=True)\n",
    "    return forecast_df"
   ]
  },
  {
   "cell_type": "code",
   "execution_count": null,
   "id": "23600506",
   "metadata": {
    "vscode": {
     "languageId": "plaintext"
    }
   },
   "outputs": [],
   "source": [
    "# Contoh penggunaan: Brand B1\n",
    "mode = \"brand\"\n",
    "id = \"B1\"\n",
    "df_prepared = prepare_data(df, mode=mode, id=id)\n",
    "model, test_result, rmse = train_xgboost(df_prepared, target_col=f\"QTY_{mode.upper()}_{id}\", promo_col=f\"PROMO_{mode.upper()}_{id}\")"
   ]
  },
  {
   "cell_type": "code",
   "execution_count": null,
   "id": "ff673557",
   "metadata": {
    "vscode": {
     "languageId": "plaintext"
    }
   },
   "outputs": [],
   "source": [
    "# 9. Forecast 14 hari ke depan dari data terakhir\n",
    "df_features = create_features(df_prepared, target_col=f\"QTY_{mode.upper()}_{id}\", promo_col=f\"PROMO_{mode.upper()}_{id}\")\n",
    "forecast_14d = forecast_next_days(model, df_features, n_steps=14, target_col=f\"QTY_{mode.upper()}_{id}\", promo_col=f\"PROMO_{mode.upper()}_{id}\")\n",
    "\n",
    "print(\"\\nForecast 14 Hari Ke Depan:\")\n",
    "print(forecast_14d)\n",
    "\n",
    "forecast_14d.plot(figsize=(12,5), title=\"Prediksi 14 Hari ke Depan\")\n",
    "plt.ylabel(\"Jumlah Penjualan\")\n",
    "plt.xlabel(\"Tanggal\")\n",
    "plt.show()"
   ]
  }
 ],
 "metadata": {
  "language_info": {
   "name": "python"
  }
 },
 "nbformat": 4,
 "nbformat_minor": 5
}
